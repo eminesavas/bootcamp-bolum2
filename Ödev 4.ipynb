{
 "cells": [
  {
   "cell_type": "markdown",
   "metadata": {},
   "source": [
    "# ÖDEV 4 (Dosya İşlemleri,Fonksiyonlar,Hatalar,Modüller)"
   ]
  },
  {
   "cell_type": "markdown",
   "metadata": {},
   "source": [
    "## Soru 1"
   ]
  },
  {
   "cell_type": "code",
   "execution_count": 13,
   "metadata": {},
   "outputs": [
    {
     "name": "stdout",
     "output_type": "stream",
     "text": [
      "36\n",
      "[\"ithaka'ya\", 'doğru', 'yola', 'çıktığın', 'zaman,\\n']\n",
      "['dile', 'ki', 'uzun', 'sürsün', 'yolculuğun,', '\\n']\n",
      "['serüven', 'dolu,', 'bilgi', 'dolu', 'olsun.', '\\n']\n",
      "['ne', 'lestrigonlardan', 'kork,', '\\n']\n",
      "['ne', 'kikloplardan,', 'ne', 'de', 'öfkeli', \"poseidon'dan.\", '\\n']\n",
      "['bunlardan', 'hiçbiri', 'çıkmaz', 'karşına,', '\\n']\n",
      "['düşlerin', 'yüceyse,', 'gövdeni', 've', 'ruhunu', '\\n']\n",
      "['ince', 'bir', 'heyecan', 'sarmışsa', 'eğer.', '\\n']\n",
      "['ne', 'lestrigonlara', 'rastlarsın,', '\\n']\n",
      "['ne', 'kikloplara,', 'ne', 'azgın', \"poseidon'a,\", '\\n']\n",
      "['onları', 'sen', 'kendi', 'ruhunda', 'taşımadıkça,', '\\n']\n",
      "['kendi', 'ruhun', 'onları', 'dikmedikçe', 'karşına.\\n']\n",
      "['dile', 'ki', 'uzun', 'sürsün', 'yolun.', '\\n']\n",
      "['nice', 'yaz', 'sabahları', 'olsun,', '\\n']\n",
      "['eşsiz', 'bir', 'sevinç', 've', 'mutluluk', 'içinde', '\\n']\n",
      "['önceden', 'hiç', 'görmediğin', 'limanlara', 'girdiğin!', '\\n']\n",
      "['durup', \"fenike'nin\", 'çarşılarında', '\\n']\n",
      "['eşi', 'benzeri', 'olmayan', 'mallar', 'al,', '\\n']\n",
      "['sedefle', 'mercan,', 'abanozla', 'kehribar,', '\\n']\n",
      "['ve', 'her', 'türlü', 'başdöndürücü', 'kokular;', '\\n']\n",
      "['bu', 'başdöndürücü', 'kokulardan', 'al', 'alabildiğin', 'kadar;', '\\n']\n",
      "['nice', 'mısır', 'şehirlerine', 'uğra,', '\\n']\n",
      "['ne', 'öğrenebilirsen', 'öğrenmeye', 'bak', 'bilgelerinden.\\n']\n",
      "['hiç', 'aklından', 'çıkarma', \"ithaka'yı.\", '\\n']\n",
      "['oraya', 'varmak', 'senin', 'başlıca', 'yazgın.', '\\n']\n",
      "['ama', 'yolculuğu', 'tez', 'bitirmeye', 'de', 'kalkma', 'sakın.', '\\n']\n",
      "['varsın', 'yıllarca', 'sürsün,', 'daha', 'iyi;', '\\n']\n",
      "['sonunda', 'kocamış', 'biri', 'olarak', 'demir', 'at', 'adana,', '\\n']\n",
      "['yol', 'boyunca', 'kazandığın', 'bunca', 'şeylerle', 'zengin,', '\\n']\n",
      "[\"ithaka'nın\", 'sana', 'zenginlik', 'vermesini', 'ummadan.\\n']\n",
      "['sana', 'bu', 'güzel', 'yolculuğu', 'verdi', 'ithaka.', '\\n']\n",
      "['o', 'olmasa,', 'yola', 'hiç', 'çıkmayacaktın.', '\\n']\n",
      "['ama', 'sana', 'verecek', 'bir', 'şeyi', 'yok', 'bundan', 'başka.\\n']\n",
      "['onu', 'yoksul', 'buluyorsan,', 'aldanmış', 'sanma', 'kendini.', '\\n']\n",
      "['geçtiğin', 'bunca', 'deneyden', 'sonra', 'öyle', 'bilgeleştin', 'ki,', '\\n']\n",
      "['artık', 'elbet', 'biliyorsundur', 'ne', 'anlama', 'geldiğini', 'ithakaların.']\n"
     ]
    }
   ],
   "source": [
    "with open(\"ithaka.txt\",\"r\") as f:\n",
    "    print(len(f.readlines()))\n",
    "    \n",
    "with open(\"ithaka2.txt\", \"w\") as f2:\n",
    "    with open(\"ithaka.txt\", \"r\") as f:\n",
    "         for line in f.readlines():\n",
    "            f2.write(line.split(\" \")[0]+\"\\n\")\n",
    "            print(line.split(\" \"))"
   ]
  },
  {
   "cell_type": "markdown",
   "metadata": {},
   "source": [
    "## Soru 2"
   ]
  },
  {
   "cell_type": "code",
   "execution_count": 20,
   "metadata": {},
   "outputs": [
    {
     "name": "stdout",
     "output_type": "stream",
     "text": [
      "7 asal sayıdır\n"
     ]
    }
   ],
   "source": [
    "def asal_sayi(x):\n",
    "    \n",
    "    if x==1:\n",
    "        print( \"{} asal sayı değildir.\".format(x))\n",
    "     \n",
    "    elif x==2:\n",
    "        print(\"{} asal sayıdır.\".format(x))\n",
    "        \n",
    "    elif x%2!=0:\n",
    "        for y in range (2,x//2):\n",
    "            if (x%y)!=0:\n",
    "                print( \"{} asal sayıdır\".format(x))\n",
    "                \n",
    "    else:\n",
    "        print( \"{} asal sayı değildir\".format(x))\n",
    "    \n",
    "                \n",
    "\n",
    "asal_sayi(7)      "
   ]
  },
  {
   "cell_type": "markdown",
   "metadata": {},
   "source": [
    "## Soru 3"
   ]
  },
  {
   "cell_type": "code",
   "execution_count": 12,
   "metadata": {},
   "outputs": [
    {
     "data": {
      "text/plain": [
       "[1, 2, 3, 4]"
      ]
     },
     "execution_count": 12,
     "metadata": {},
     "output_type": "execute_result"
    }
   ],
   "source": [
    "liste=[1,2,2,3,3,4,4]\n",
    "\n",
    "def unique_liste_olusturma():\n",
    "\n",
    "    unique_liste=[]\n",
    "    for i in liste:\n",
    "        if i not in unique_liste:\n",
    "            unique_liste.append(i)\n",
    "    return unique_liste      \n",
    "\n",
    "unique_liste_olusturma()  "
   ]
  },
  {
   "cell_type": "markdown",
   "metadata": {},
   "source": [
    "## Soru 4"
   ]
  },
  {
   "cell_type": "code",
   "execution_count": 21,
   "metadata": {},
   "outputs": [
    {
     "name": "stdout",
     "output_type": "stream",
     "text": [
      "52 yaşındasın\n"
     ]
    }
   ],
   "source": [
    "import time\n",
    "x=time.localtime()\n",
    "def dogum_tarihi(yıl,ay,gun):\n",
    "\n",
    "    yas=[(x[0]-yıl),(x[1]-ay),(x[2]-gun)]\n",
    "    \n",
    "    return yas\n",
    "dogum_tarihi(1966,12,23)\n",
    "\n",
    "    \n",
    "if yas[1] < 0:\n",
    "    yass=yas[0]-1\n",
    "     \n",
    "else:\n",
    "    \n",
    "    yass=yas[0]\n",
    "        \n",
    "print(\"{} yaşındasın\".format(yass)) \n"
   ]
  }
 ],
 "metadata": {
  "kernelspec": {
   "display_name": "Python 3",
   "language": "python",
   "name": "python3"
  },
  "language_info": {
   "codemirror_mode": {
    "name": "ipython",
    "version": 3
   },
   "file_extension": ".py",
   "mimetype": "text/x-python",
   "name": "python",
   "nbconvert_exporter": "python",
   "pygments_lexer": "ipython3",
   "version": "3.6.8"
  }
 },
 "nbformat": 4,
 "nbformat_minor": 2
}
