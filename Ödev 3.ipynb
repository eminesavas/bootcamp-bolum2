{
 "cells": [
  {
   "cell_type": "markdown",
   "metadata": {},
   "source": [
    "# ÖDEV 3  ( Koşullu İfadeler ve Döngüler )"
   ]
  },
  {
   "cell_type": "markdown",
   "metadata": {},
   "source": [
    "## Soru 1"
   ]
  },
  {
   "cell_type": "code",
   "execution_count": 1,
   "metadata": {},
   "outputs": [
    {
     "name": "stdout",
     "output_type": "stream",
     "text": [
      "Lütfen sıcaklık değerini giriniz:40C\n",
      "104F\n"
     ]
    }
   ],
   "source": [
    "sicaklik_degeri=input(\"Lütfen sıcaklık değerini giriniz:\")\n",
    "\n",
    "if sicaklik_degeri[-1]==\"F\":\n",
    "    C=((5/9)*(int(sicaklik_degeri[:-1])-32))\n",
    "    print(\"{:.1f}C\".format(C))\n",
    "\n",
    "elif sicaklik_degeri[-1]==\"C\":\n",
    "    F=(((9/5)*int(sicaklik_degeri[:-1]))+32)\n",
    "    print(\"{:.0f}F\".format(F))\n",
    " "
   ]
  },
  {
   "cell_type": "code",
   "execution_count": 2,
   "metadata": {},
   "outputs": [
    {
     "name": "stdout",
     "output_type": "stream",
     "text": [
      "Lütfen sıcaklık değerini giriniz:52F\n",
      "11.1C\n"
     ]
    }
   ],
   "source": [
    "sicaklik_degeri=input(\"Lütfen sıcaklık değerini giriniz:\")\n",
    "\n",
    "if sicaklik_degeri[-1]==\"F\":\n",
    "    C=((5/9)*(int(sicaklik_degeri[:-1])-32))\n",
    "    print(\"{:.1f}C\".format(C))\n",
    "\n",
    "elif sicaklik_degeri[-1]==\"C\":\n",
    "    F=(((9/5)*int(sicaklik_degeri[:-1]))+32)\n",
    "    print(\"{:.0f}F\".format(F))\n",
    " "
   ]
  },
  {
   "cell_type": "markdown",
   "metadata": {},
   "source": [
    "## Soru 2"
   ]
  },
  {
   "cell_type": "code",
   "execution_count": 3,
   "metadata": {
    "scrolled": true
   },
   "outputs": [
    {
     "name": "stdout",
     "output_type": "stream",
     "text": [
      "Lütfen bir kelime giriniz: otobüs\n",
      "süboto\n"
     ]
    }
   ],
   "source": [
    "x=input(\"Lütfen bir kelime giriniz: \")\n",
    "\n",
    "print(x[::-1])\n",
    "    "
   ]
  },
  {
   "cell_type": "markdown",
   "metadata": {},
   "source": [
    "## Soru 3"
   ]
  },
  {
   "cell_type": "code",
   "execution_count": 4,
   "metadata": {
    "scrolled": true
   },
   "outputs": [
    {
     "name": "stdout",
     "output_type": "stream",
     "text": [
      "1\n",
      "1\n",
      "2\n",
      "3\n",
      "5\n",
      "8\n",
      "13\n",
      "21\n",
      "34\n"
     ]
    }
   ],
   "source": [
    "a,b=1,1\n",
    "while (a<50):\n",
    "    print(a)\n",
    "    a,b=b,a+b"
   ]
  },
  {
   "cell_type": "markdown",
   "metadata": {},
   "source": [
    "## Soru 4"
   ]
  },
  {
   "cell_type": "code",
   "execution_count": 5,
   "metadata": {
    "scrolled": true
   },
   "outputs": [
    {
     "name": "stdout",
     "output_type": "stream",
     "text": [
      "Lütfen bir sayı giriniz:6\n",
      "6*0=0\n",
      "6*1=6\n",
      "6*2=12\n",
      "6*3=18\n",
      "6*4=24\n",
      "6*5=30\n",
      "6*6=36\n",
      "6*7=42\n",
      "6*8=48\n",
      "6*9=54\n",
      "6*10=60\n"
     ]
    }
   ],
   "source": [
    "x=int(input(\"Lütfen bir sayı giriniz:\")) \n",
    "for n in range (11):\n",
    "    çarpım=x*n\n",
    "    sonuç='{}*{}={}'\n",
    "    print(sonuç.format(x,n,çarpım))"
   ]
  },
  {
   "cell_type": "markdown",
   "metadata": {},
   "source": [
    "## Soru 5"
   ]
  },
  {
   "cell_type": "code",
   "execution_count": 6,
   "metadata": {},
   "outputs": [
    {
     "name": "stdout",
     "output_type": "stream",
     "text": [
      "[1, 8, 9, 64, 25, 216, 49, 512, 81, 1000, 121, 1728, 169, 2744, 225, 4096, 289, 5832, 361]\n"
     ]
    }
   ],
   "source": [
    "liste=[x**3 if x%2==0 else x**2 for x in range(1,20)]\n",
    "\n",
    "print(liste)"
   ]
  }
 ],
 "metadata": {
  "kernelspec": {
   "display_name": "Python 3",
   "language": "python",
   "name": "python3"
  },
  "language_info": {
   "codemirror_mode": {
    "name": "ipython",
    "version": 3
   },
   "file_extension": ".py",
   "mimetype": "text/x-python",
   "name": "python",
   "nbconvert_exporter": "python",
   "pygments_lexer": "ipython3",
   "version": "3.6.8"
  }
 },
 "nbformat": 4,
 "nbformat_minor": 2
}
